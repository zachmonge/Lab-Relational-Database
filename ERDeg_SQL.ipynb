{
 "cells": [
  {
   "cell_type": "markdown",
   "metadata": {},
   "source": [
    "# Creating Lab-Wide Relational Database\n",
    "This is a script written by Zach Monge and is being used to create a lab-wide relational database. Right now it is just being used for one study, which is called ERDeg. To create the database I used SQLite and specifically sqlite3, which is the Python implementation of SQLite. I am not able to make the data publically available because it contains participants' personal information. <br><br>\n",
    "The diagraph of the database may be found in the repository."
   ]
  },
  {
   "cell_type": "markdown",
   "metadata": {},
   "source": [
    "## Importing functions and creating database"
   ]
  },
  {
   "cell_type": "code",
   "execution_count": 1,
   "metadata": {},
   "outputs": [],
   "source": [
    "#Importing functions\n",
    "\n",
    "import sqlite3\n",
    "import pandas as pd\n",
    "import pdb"
   ]
  },
  {
   "cell_type": "code",
   "execution_count": 2,
   "metadata": {},
   "outputs": [],
   "source": [
    "PATH_data='Z:\\\\ERMatchOA.02\\\\Data\\\\SQL_upload'"
   ]
  },
  {
   "cell_type": "markdown",
   "metadata": {},
   "source": [
    "Creating database"
   ]
  },
  {
   "cell_type": "code",
   "execution_count": 3,
   "metadata": {},
   "outputs": [],
   "source": [
    "conn = sqlite3.connect(f'{PATH_data}\\\\ERDeg_database.sqlite')\n",
    "cur = conn.cursor()"
   ]
  },
  {
   "cell_type": "markdown",
   "metadata": {},
   "source": [
    "## Creating Tables"
   ]
  },
  {
   "cell_type": "markdown",
   "metadata": {},
   "source": [
    "Creating Participant table. Each participant is assigned an id, which is determined from unique entries of first name, last name, and date of birth."
   ]
  },
  {
   "cell_type": "code",
   "execution_count": 7,
   "metadata": {},
   "outputs": [
    {
     "data": {
      "text/plain": [
       "<sqlite3.Cursor at 0x1763e218810>"
      ]
     },
     "execution_count": 7,
     "metadata": {},
     "output_type": "execute_result"
    }
   ],
   "source": [
    "cur.execute('''\n",
    "            CREATE TABLE IF NOT EXISTS Participant\n",
    "            (id INTEGER PRIMARY KEY, first_name TEXT, last_name TEXT,\n",
    "            dob DATE, phone TEXT, email TEXT, gender TEXT, education FLOAT, \n",
    "            UNIQUE(first_name, last_name, dob))\n",
    "            ''')"
   ]
  },
  {
   "cell_type": "markdown",
   "metadata": {},
   "source": [
    "Create Study table. Each study is assigned an id."
   ]
  },
  {
   "cell_type": "code",
   "execution_count": 8,
   "metadata": {},
   "outputs": [
    {
     "data": {
      "text/plain": [
       "<sqlite3.Cursor at 0x1763e218810>"
      ]
     },
     "execution_count": 8,
     "metadata": {},
     "output_type": "execute_result"
    }
   ],
   "source": [
    "cur.execute('''\n",
    "            CREATE TABLE IF NOT EXISTS Study\n",
    "            (id INTEGER PRIMARY KEY, study_name TEXT UNIQUE)\n",
    "            ''')"
   ]
  },
  {
   "cell_type": "markdown",
   "metadata": {},
   "source": [
    "Create ScreeningQuestionnaire table. Only one entry is allowed for each participant in a study."
   ]
  },
  {
   "cell_type": "code",
   "execution_count": 9,
   "metadata": {},
   "outputs": [
    {
     "data": {
      "text/plain": [
       "<sqlite3.Cursor at 0x1763e218810>"
      ]
     },
     "execution_count": 9,
     "metadata": {},
     "output_type": "execute_result"
    }
   ],
   "source": [
    "cur.execute('''\n",
    "            CREATE TABLE IF NOT EXISTS ScreeningQuestionnaire\n",
    "            (participant_id INTEGER, study_id INTEGER, assessment_date DATE,\n",
    "            moca INTEGER, bdi INTEGER, vviq INTEGER, UNIQUE(participant_id, study_id))\n",
    "            ''')"
   ]
  },
  {
   "cell_type": "markdown",
   "metadata": {},
   "source": [
    "Create ScanInformation table. Only one entry is allowed for each participant in a study."
   ]
  },
  {
   "cell_type": "code",
   "execution_count": 10,
   "metadata": {},
   "outputs": [
    {
     "data": {
      "text/plain": [
       "<sqlite3.Cursor at 0x1763e218810>"
      ]
     },
     "execution_count": 10,
     "metadata": {},
     "output_type": "execute_result"
    }
   ],
   "source": [
    "cur.execute('''\n",
    "            CREATE TABLE IF NOT EXISTS ScanInformation\n",
    "            (participant_id INTEGER, study_id INTEGER,\n",
    "            scan_id1 TEXT, scan_id2 TEXT, UNIQUE(participant_id, study_id))\n",
    "            ''')"
   ]
  },
  {
   "cell_type": "markdown",
   "metadata": {},
   "source": [
    "Create StudySpecificId table. Only one entry is allowed for each participant in a study."
   ]
  },
  {
   "cell_type": "code",
   "execution_count": 11,
   "metadata": {},
   "outputs": [
    {
     "data": {
      "text/plain": [
       "<sqlite3.Cursor at 0x1763e218810>"
      ]
     },
     "execution_count": 11,
     "metadata": {},
     "output_type": "execute_result"
    }
   ],
   "source": [
    "cur.execute('''\n",
    "            CREATE TABLE IF NOT EXISTS StudySpecificId\n",
    "            (participant_id INTEGER, study_id INTEGER,\n",
    "            participant_study_id INTEGER, UNIQUE(participant_id, study_id))\n",
    "            ''')"
   ]
  },
  {
   "cell_type": "markdown",
   "metadata": {},
   "source": [
    "Create NihToolboxTest table. Each test is assigned an id."
   ]
  },
  {
   "cell_type": "code",
   "execution_count": 12,
   "metadata": {},
   "outputs": [
    {
     "data": {
      "text/plain": [
       "<sqlite3.Cursor at 0x1763e218810>"
      ]
     },
     "execution_count": 12,
     "metadata": {},
     "output_type": "execute_result"
    }
   ],
   "source": [
    "cur.execute('''\n",
    "            CREATE TABLE IF NOT EXISTS NihToolboxTest\n",
    "            (id INTEGER PRIMARY KEY, test_name TEXT UNIQUE)\n",
    "            ''')"
   ]
  },
  {
   "cell_type": "markdown",
   "metadata": {},
   "source": [
    "Create NihToolboxScore table. Only one entry is allowed for each test for each participant in a study."
   ]
  },
  {
   "cell_type": "code",
   "execution_count": 13,
   "metadata": {},
   "outputs": [
    {
     "data": {
      "text/plain": [
       "<sqlite3.Cursor at 0x1763e218810>"
      ]
     },
     "execution_count": 13,
     "metadata": {},
     "output_type": "execute_result"
    }
   ],
   "source": [
    "cur.execute('''\n",
    "            CREATE TABLE IF NOT EXISTS NihToolboxScore\n",
    "            (participant_id INTEGER, study_id INTEGER, date_time DATETIME,\n",
    "            test_id INTEGER, raw_score INTEGER, theta FLOAT, se FLOAT,\n",
    "            itm_cnt INTEGER, computed_score FLOAT, uncorrected_standard_score INTEGER,\n",
    "            age_corrected_score INTEGER, national_percentile INTEGER, t_score INTEGER,\n",
    "            UNIQUE(participant_id, study_id, test_id))\n",
    "            ''')"
   ]
  },
  {
   "cell_type": "markdown",
   "metadata": {},
   "source": [
    "## Inserting data"
   ]
  },
  {
   "cell_type": "markdown",
   "metadata": {},
   "source": [
    "Below reading in CSV that contains participant information. Again, I am not able to show any of the data because it contains personal information, but you can see the column names below."
   ]
  },
  {
   "cell_type": "code",
   "execution_count": 17,
   "metadata": {},
   "outputs": [
    {
     "data": {
      "text/plain": [
       "Index(['id', 'name', 'scanid_1', 'scanid_2', 'age_grp', 'gender', 'phone',\n",
       "       'email', 'task_version', 'DOB', 'age', 'education', 'assessment_date',\n",
       "       'MoCA', 'BDI', 'VVIQ'],\n",
       "      dtype='object')"
      ]
     },
     "execution_count": 17,
     "metadata": {},
     "output_type": "execute_result"
    }
   ],
   "source": [
    "demographics_df = pd.read_csv(f'{PATH_data}\\\\ERDeg_Demographics_SQL.csv')\n",
    "demographics_df.columns"
   ]
  },
  {
   "cell_type": "markdown",
   "metadata": {},
   "source": [
    "Inserting data for Participant table"
   ]
  },
  {
   "cell_type": "code",
   "execution_count": 18,
   "metadata": {},
   "outputs": [],
   "source": [
    "# Inserting new participants\n",
    "for row in demographics_df.iterrows():\n",
    "    row=row[1] # Getting data for one row\n",
    "    \n",
    "    # Inserting new participants\n",
    "    cur.execute('''INSERT OR IGNORE INTO Participant (first_name, last_name, dob) VALUES (?, ?, ?)''',\n",
    "           (row['name'].split()[0], row['name'].split()[-1], row['DOB']))\n",
    "    \n",
    "conn.commit()\n",
    "\n",
    "# Inserting other data on participants contained in Participant table\n",
    "for row in demographics_df.iterrows():\n",
    "    row=row[1] # Getting data for one row\n",
    "    \n",
    "    # Getting id number\n",
    "    cur.execute('SELECT id FROM Participant WHERE first_name = ? AND last_name = ? AND dob = ? LIMIT 1',\n",
    "               (row['name'].split()[0], row['name'].split()[-1], row['DOB']))\n",
    "    id_num = cur.fetchone()[0]\n",
    "    \n",
    "    # Updating\n",
    "    cur.execute('''UPDATE Participant SET phone=?, email=?, gender=?, education=? WHERE id=?''',\n",
    "               (row['phone'], row['email'], row['gender'], row['education'], id_num))\n",
    "    \n",
    "conn.commit()"
   ]
  },
  {
   "cell_type": "markdown",
   "metadata": {},
   "source": [
    "Inserting data for Study table. Again there is only one study here so far which is called *ERDeg*."
   ]
  },
  {
   "cell_type": "code",
   "execution_count": 19,
   "metadata": {},
   "outputs": [],
   "source": [
    "cur.execute('''INSERT OR IGNORE INTO Study (study_name) VALUES (?)''',\n",
    "           ('ERDeg',))\n",
    "conn.commit()"
   ]
  },
  {
   "cell_type": "markdown",
   "metadata": {},
   "source": [
    "Inserting data into ScreeningQuestionnaire, ScanInformation, and StudySpecificId table"
   ]
  },
  {
   "cell_type": "code",
   "execution_count": 20,
   "metadata": {},
   "outputs": [],
   "source": [
    "for row in demographics_df.iterrows():\n",
    "    row=row[1] # Getting data for one row \n",
    "    \n",
    "    # Getting participant id number\n",
    "    cur.execute('SELECT id FROM Participant WHERE first_name = ? AND last_name = ? AND dob = ? LIMIT 1',\n",
    "               (row['name'].split()[0], row['name'].split()[-1], row['DOB']))\n",
    "    participant_id = cur.fetchone()[0]\n",
    "    \n",
    "    # Getting study id number for ERDeg\n",
    "    cur.execute('''SELECT id FROM Study WHERE study_name = ? LIMIT 1''',\n",
    "               ('ERDeg',))\n",
    "    study_id = cur.fetchone()[0]\n",
    "    \n",
    "    # Inserting data into ScreeningQuestionnaire table\n",
    "    cur.execute('''INSERT OR IGNORE INTO ScreeningQuestionnaire (participant_id,\n",
    "                study_id, assessment_date, moca, bdi, vviq) VALUES (?,?,?,?,?,?)''',\n",
    "               (participant_id, study_id, row['assessment_date'], row['MoCA'],\n",
    "               row['BDI'], row['VVIQ']))\n",
    "    \n",
    "    # Inserting data into ScanInformation table\n",
    "    cur.execute('''INSERT OR IGNORE INTO ScanInformation (participant_id,\n",
    "    study_id, scan_id1, scan_id2) VALUES (?,?,?,?)''',\n",
    "               (participant_id, study_id, row['scanid_1'], row['scanid_2']))\n",
    "    \n",
    "    # Inserting data in StudySpecificId table\n",
    "    cur.execute('''INSERT OR IGNORE INTO StudySpecificId (participant_id,\n",
    "    study_id, participant_study_id) VALUES (?,?,?)''',\n",
    "               (participant_id,study_id,row['id']))\n",
    "\n",
    "conn.commit()"
   ]
  },
  {
   "cell_type": "markdown",
   "metadata": {},
   "source": [
    "Inserting data into NihToolboxTest"
   ]
  },
  {
   "cell_type": "code",
   "execution_count": 21,
   "metadata": {},
   "outputs": [],
   "source": [
    "cur.execute('''INSERT OR IGNORE INTO NihToolboxTest (test_name) VALUES ('NIH Toolbox Picture Vocabulary Test Age 3+ v2.0')''')\n",
    "cur.execute('''INSERT OR IGNORE INTO NihToolboxTest (test_name) VALUES ('NIH Toolbox Flanker Inhibitory Control and Attention Test Age 12+ v2.1')''')\n",
    "cur.execute('''INSERT OR IGNORE INTO NihToolboxTest (test_name) VALUES ('NIH Toolbox List Sorting Working Memory Test Age 7+ v2.1')''')\n",
    "cur.execute('''INSERT OR IGNORE INTO NihToolboxTest (test_name) VALUES ('NIH Toolbox Dimensional Change Card Sort Test Age 12+ v2.1')''')\n",
    "cur.execute('''INSERT OR IGNORE INTO NihToolboxTest (test_name) VALUES ('NIH Toolbox Pattern Comparison Processing Speed Test Age 7+ v2.1')''')\n",
    "cur.execute('''INSERT OR IGNORE INTO NihToolboxTest (test_name) VALUES ('NIH Toolbox Picture Sequence Memory Test Age 8+ Form A v2.1')''')\n",
    "cur.execute('''INSERT OR IGNORE INTO NihToolboxTest (test_name) VALUES ('NIH Toolbox Picture Vocabulary Test Age 3+ Practice v2.0')''')\n",
    "cur.execute('''INSERT OR IGNORE INTO NihToolboxTest (test_name) VALUES ('NIH Toolbox Oral Reading Recognition Test Age 3+ v2.0')''')\n",
    "cur.execute('''INSERT OR IGNORE INTO NihToolboxTest (test_name) VALUES ('Cognition Fluid Composite v1.1')''')\n",
    "cur.execute('''INSERT OR IGNORE INTO NihToolboxTest (test_name) VALUES ('Cognition Crystallized Composite v1.1')''')\n",
    "cur.execute('''INSERT OR IGNORE INTO NihToolboxTest (test_name) VALUES ('Cognition Total Composite Score v1.1')''')\n",
    "cur.execute('''INSERT OR IGNORE INTO NihToolboxTest (test_name) VALUES ('Cognition Early Childhood Composite v1.1')''')\n",
    "cur.execute('''INSERT OR IGNORE INTO NihToolboxTest (test_name) VALUES ('NIH Toolbox Auditory Verbal Learning Test (Rey) 8+ v2.0')''')\n",
    "conn.commit()"
   ]
  },
  {
   "cell_type": "markdown",
   "metadata": {},
   "source": [
    "Import NIH Toolbox Scores"
   ]
  },
  {
   "cell_type": "code",
   "execution_count": 23,
   "metadata": {},
   "outputs": [
    {
     "data": {
      "text/plain": [
       "Index(['PIN', 'DeviceID', 'Assessment Name', 'Inst', 'RawScore', 'Theta',\n",
       "       'TScore', 'SE', 'ItmCnt', 'DateFinished', 'Column1', 'Column2',\n",
       "       'Column3', 'Column4', 'Column5', 'Language', 'Computed Score',\n",
       "       'Uncorrected Standard Score', 'Age-Corrected Standard Score',\n",
       "       'National Percentile (age adjusted)', 'Fully-Corrected T-score',\n",
       "       'InstrumentBreakoff', 'InstrumentStatus2', 'InstrumentRCReason',\n",
       "       'InstrumentRCReasonOther', 'App Version', 'iPad Version',\n",
       "       'Firmware Version'],\n",
       "      dtype='object')"
      ]
     },
     "execution_count": 23,
     "metadata": {},
     "output_type": "execute_result"
    }
   ],
   "source": [
    "nih_data_df=pd.read_csv(\"Z:\\\\ERMatchOA.02\\\\Data\\\\NIH_Toolbox\\\\ERDeg_NIHToolbox_SQL_upload.csv\")\n",
    "nih_data_df.columns"
   ]
  },
  {
   "cell_type": "markdown",
   "metadata": {},
   "source": [
    "Importing data into NihToolboxScore Table"
   ]
  },
  {
   "cell_type": "code",
   "execution_count": 24,
   "metadata": {},
   "outputs": [],
   "source": [
    "# Getting study_id for ERDeg\n",
    "cur.execute('''SELECT id FROM Study WHERE study_name = \"ERDeg\" LIMIT 1''')\n",
    "study_id = cur.fetchone()[0]\n",
    "\n",
    "for row in nih_data_df.iterrows():\n",
    "    row=row[1] # Getting data for one row\n",
    "    \n",
    "    \n",
    "    # Getting participant_id\n",
    "    cur.execute('''SELECT participant_id FROM StudySpecificId WHERE study_id = ? AND participant_study_id = ? LIMIT 1''',\n",
    "               (study_id, row['PIN'][-4:]))\n",
    "    participant_id = cur.fetchone()[0]\n",
    "    \n",
    "    # Getting test ID number\n",
    "    cur.execute('''SELECT id FROM NihToolboxTest WHERE test_name = ? LIMIT 1''',\n",
    "               (row['Inst'], ))\n",
    "    test_id = cur.fetchone()[0]\n",
    "\n",
    "    # Inserting scores\n",
    "    cur.execute('''INSERT OR IGNORE INTO NihToolboxScore (participant_id,study_id,date_time,\n",
    "    test_id, raw_score,theta,se,itm_cnt,computed_score,uncorrected_standard_score,age_corrected_score,\n",
    "    national_percentile,t_score) VALUES (?,?,?,?,?,?,?,?,?,?,?,?,?)''',\n",
    "               (participant_id,study_id,row['DateFinished'],test_id,row['RawScore'],\n",
    "               row['Theta'],row['SE'],row['ItmCnt'],row['Computed Score'],\n",
    "               row['Uncorrected Standard Score'],row['Age-Corrected Standard Score'],\n",
    "               row['National Percentile (age adjusted)'], row['Fully-Corrected T-score']))\n",
    "    \n",
    "conn.commit()"
   ]
  },
  {
   "cell_type": "code",
   "execution_count": 25,
   "metadata": {},
   "outputs": [],
   "source": [
    "cur.close()"
   ]
  }
 ],
 "metadata": {
  "kernelspec": {
   "display_name": "Python 3",
   "language": "python",
   "name": "python3"
  },
  "language_info": {
   "codemirror_mode": {
    "name": "ipython",
    "version": 3
   },
   "file_extension": ".py",
   "mimetype": "text/x-python",
   "name": "python",
   "nbconvert_exporter": "python",
   "pygments_lexer": "ipython3",
   "version": "3.6.6"
  }
 },
 "nbformat": 4,
 "nbformat_minor": 2
}
